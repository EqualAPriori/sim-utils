{
 "cells": [
  {
   "cell_type": "markdown",
   "source": [
    "## Imports"
   ],
   "metadata": {}
  },
  {
   "cell_type": "code",
   "execution_count": 1,
   "source": [
    "import sys, os, copy\n",
    "print('python path:\\n    {}'.format(sys.path))\n",
    "import sim, pickleTraj\n",
    "import subprocess\n",
    "from datetime import datetime\n",
    "#import my special md-manager utilities\n",
    "from utility import *\n",
    "print('... execution date: {}'.format(datetime.now()))\n",
    "print(context.get_devinfo(sim))\n",
    "print('... cwd:\\t{}'.format(os.getcwd()))\n",
    "\n",
    "import numpy as np\n",
    "from collections import OrderedDict\n",
    "from collections import namedtuple\n",
    "units = sim.units.DimensionlessUnits"
   ],
   "outputs": [],
   "metadata": {}
  },
  {
   "cell_type": "markdown",
   "source": [
    "## Standard sim settings"
   ],
   "metadata": {}
  },
  {
   "cell_type": "code",
   "execution_count": null,
   "source": [
    "sim.export.omm.platformName = 'OpenCL'\n",
    "sim.export.omm.device = 0 #-1 is default, let openmm choose its own platform. otherwise is GPU device #\n",
    "sim.export.omm.NPairPotentialKnots = 500 #number of points used to spline-interpolate the potential\n",
    "sim.export.omm.InnerCutoff = 0.001 #0.001 is default. Note that a small value is not necessary, like in the lammps export, because the omm export interpolates to zero\n",
    "sim.srel.optimizetrajomm.OpenMMStepsMin = 0 #number of steps to minimize structure, 0 is default\n",
    "sim.srel.optimizetrajomm.OpenMMDelTempFiles = False #False is Default\n",
    "sim.export.omm.UseTabulated = True\n",
    "sim.srel.base.n_process = 1\n",
    "#print('NUM PROCESSES: {}'.format(sim.srel.base.n_process))\n",
    "\n",
    "sim.export.omm.VVerbose = False\n",
    "sim.srel.base.VVerbose = False\n",
    "sim.srel.penalty.VVerbose = False\n",
    "\n",
    "UseWPenalty = False\n",
    "StageCoefs = []\n",
    "MaxIter=None\n",
    "SteepestIter=0"
   ],
   "outputs": [],
   "metadata": {}
  },
  {
   "cell_type": "markdown",
   "source": [
    "## Specific settings and set up system"
   ],
   "metadata": {}
  },
  {
   "cell_type": "code",
   "execution_count": null,
   "source": [
    "datadir='./'\n",
    "forcefield_file = None #initial force field file\n",
    "traj_file = os.path.abspath('{}/salt_Uext0.0_mapped.lammpstrj.gz'.format(datadir))\n",
    "traj = pickleTraj(traj_file)\n",
    "box = traj.FrameData['BoxL']\n",
    "\n",
    "print('===== Defining system and simulation =====')\n",
    "top = topologify.Topology('./setup/top.yaml')\n",
    "\n",
    "options0 = yaml.load('./setup/settings.yaml')\n",
    "options0['box'] = box\n",
    "ffdef0 = forcefield.ForceField('./setup/ff.yaml')\n",
    "\n",
    "sysname_prefix = options0['sys_name']\n",
    "options0['neutralize'] = True\n",
    "Sys0 = export_sim.create_system(top, options=options0)\n",
    "export_sim.set_system_settings( Sys0, options0 )\n",
    "ffs0 = export_sim.create_forcefield( Sys0,top,ffdef0, options=options0 )\n",
    "Sys0.ForceField.extend(ffs0)\n",
    "\n",
    "options0['neutralize'] = False\n",
    "options0['sys_name'] = sysname_prefix + '_elec'\n",
    "ElecSys = export_sim.create_system(top, options=options0)\n",
    "export_sim.set_system_settings( ElecSys, options0 )\n",
    "Elecffs = export_sim.create_forcefield( ElecSys,top,ffdef0, options=options0 )\n",
    "ElecSys.ForceField.extend(Elecffs)\n",
    "\n",
    "export_sim.load_system(Sys0, forcefield_file)"
   ],
   "outputs": [],
   "metadata": {}
  },
  {
   "cell_type": "markdown",
   "source": [
    "## Create Optimizer"
   ],
   "metadata": {}
  },
  {
   "cell_type": "code",
   "execution_count": null,
   "source": [
    "Opt0 = optimizer.create_optimizer(Sys0, traj, md_engine=options0['run']['md_engine'],\n",
    "    steps_equil=options0['run']['steps_equil'],\n",
    "    steps_prod=options0['run']['steps_prod'],\n",
    "    steps_stride=options0['run']['steps_stride'],\n",
    "    ElecSys=ElecSys)\n",
    "Opt0.MinReweightFrac = 0.15"
   ],
   "outputs": [],
   "metadata": {}
  },
  {
   "cell_type": "markdown",
   "source": [
    "## Run"
   ],
   "metadata": {}
  },
  {
   "cell_type": "code",
   "execution_count": null,
   "source": [
    "print('===== RUNNING LJG SREL =====')\n",
    "\n",
    "Opt0.RunConjugateGradient(MaxIter=MaxIter)\n",
    "#sav/back up files and results to separate directory\n",
    "dname='ljg0'\n",
    "FilePrefix = Opt0.FilePrefix\n",
    "TempFilePrefix = Opt0.TempFilePrefix\n",
    "try:\n",
    "  os.mkdir(dname)\n",
    "  os.system('cp {}* {}'.format(FilePrefix,dname))\n",
    "  os.system('cp {}* {}'.format(TempFilePrefix,dname))\n",
    "except:\n",
    "  print('file moving commands failed')"
   ],
   "outputs": [],
   "metadata": {}
  }
 ],
 "metadata": {
  "orig_nbformat": 4,
  "language_info": {
   "name": "python",
   "version": "3.8.5",
   "mimetype": "text/x-python",
   "codemirror_mode": {
    "name": "ipython",
    "version": 3
   },
   "pygments_lexer": "ipython3",
   "nbconvert_exporter": "python",
   "file_extension": ".py"
  },
  "kernelspec": {
   "name": "python3",
   "display_name": "Python 3.8.5 64-bit ('base': conda)"
  },
  "interpreter": {
   "hash": "f681fc87dc891d05fdf4ab0205ef6003d5d382dd3a7cd9ca1b4c0f69d94eede3"
  }
 },
 "nbformat": 4,
 "nbformat_minor": 2
}